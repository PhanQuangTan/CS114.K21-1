{
  "nbformat": 4,
  "nbformat_minor": 0,
  "metadata": {
    "colab": {
      "name": "Round3.ipynb",
      "provenance": [],
      "collapsed_sections": [],
      "authorship_tag": "ABX9TyO9TpCAcxc1FsS0GxNlL/9U",
      "include_colab_link": true
    },
    "kernelspec": {
      "name": "python3",
      "display_name": "Python 3"
    }
  },
  "cells": [
    {
      "cell_type": "markdown",
      "metadata": {
        "id": "view-in-github",
        "colab_type": "text"
      },
      "source": [
        "<a href=\"https://colab.research.google.com/github/tankien76/CS114.K21/blob/master/Round3.ipynb\" target=\"_parent\"><img src=\"https://colab.research.google.com/assets/colab-badge.svg\" alt=\"Open In Colab\"/></a>"
      ]
    },
    {
      "cell_type": "markdown",
      "metadata": {
        "id": "HZxE-IpKf4x7",
        "colab_type": "text"
      },
      "source": [
        "Thêm các thư viện numpy, pandas, sklearn cần sử dụng "
      ]
    },
    {
      "cell_type": "code",
      "metadata": {
        "colab_type": "code",
        "id": "BGr5maMyKkss",
        "colab": {}
      },
      "source": [
        "import numpy as np\n",
        "import pandas as pd"
      ],
      "execution_count": 2,
      "outputs": []
    },
    {
      "cell_type": "code",
      "metadata": {
        "colab_type": "code",
        "id": "KIpkPAM5Kks1",
        "colab": {}
      },
      "source": [
        "import matplotlib.pyplot as plt\n",
        "from sklearn.model_selection import train_test_split \n",
        "from sklearn.linear_model import LinearRegression\n",
        "from sklearn import metrics"
      ],
      "execution_count": 3,
      "outputs": []
    },
    {
      "cell_type": "markdown",
      "metadata": {
        "colab_type": "text",
        "id": "yqTVpotnKks4"
      },
      "source": [
        "Lấy dữ liệu từ link:http://cs.uit.edu.vn/data3.txt chia dữ liệu thành 2 features: \"Input\", \"Runtime\" bằng thư viện pandas"
      ]
    },
    {
      "cell_type": "code",
      "metadata": {
        "colab_type": "code",
        "id": "F1h-szi0Kks6",
        "colab": {}
      },
      "source": [
        "dataset = pd.read_csv(\"http://cs.uit.edu.vn/data3.txt\",sep = \" \",delimiter= \",\")\n",
        "dataset.columns=[\"Input\",\"Runtime\"]"
      ],
      "execution_count": 23,
      "outputs": []
    },
    {
      "cell_type": "markdown",
      "metadata": {
        "id": "oesvXae7gHFY",
        "colab_type": "text"
      },
      "source": [
        "Ta thấy dataset của round 3 ít hơn dataset ở round 2"
      ]
    },
    {
      "cell_type": "code",
      "metadata": {
        "colab_type": "code",
        "id": "FuCMV10wKks8",
        "colab": {
          "base_uri": "https://localhost:8080/",
          "height": 402
        },
        "outputId": "4ebfa6e5-9054-4533-b676-feec86b88b1b"
      },
      "source": [
        "dataset"
      ],
      "execution_count": 24,
      "outputs": [
        {
          "output_type": "execute_result",
          "data": {
            "text/html": [
              "<div>\n",
              "<style scoped>\n",
              "    .dataframe tbody tr th:only-of-type {\n",
              "        vertical-align: middle;\n",
              "    }\n",
              "\n",
              "    .dataframe tbody tr th {\n",
              "        vertical-align: top;\n",
              "    }\n",
              "\n",
              "    .dataframe thead th {\n",
              "        text-align: right;\n",
              "    }\n",
              "</style>\n",
              "<table border=\"1\" class=\"dataframe\">\n",
              "  <thead>\n",
              "    <tr style=\"text-align: right;\">\n",
              "      <th></th>\n",
              "      <th>Input</th>\n",
              "      <th>Runtime</th>\n",
              "    </tr>\n",
              "  </thead>\n",
              "  <tbody>\n",
              "    <tr>\n",
              "      <th>0</th>\n",
              "      <td>37395246</td>\n",
              "      <td>3.92089</td>\n",
              "    </tr>\n",
              "    <tr>\n",
              "      <th>1</th>\n",
              "      <td>36610827</td>\n",
              "      <td>3.21540</td>\n",
              "    </tr>\n",
              "    <tr>\n",
              "      <th>2</th>\n",
              "      <td>29555651</td>\n",
              "      <td>2.54506</td>\n",
              "    </tr>\n",
              "    <tr>\n",
              "      <th>3</th>\n",
              "      <td>25928216</td>\n",
              "      <td>2.21831</td>\n",
              "    </tr>\n",
              "    <tr>\n",
              "      <th>4</th>\n",
              "      <td>30423112</td>\n",
              "      <td>2.61376</td>\n",
              "    </tr>\n",
              "    <tr>\n",
              "      <th>...</th>\n",
              "      <td>...</td>\n",
              "      <td>...</td>\n",
              "    </tr>\n",
              "    <tr>\n",
              "      <th>10584</th>\n",
              "      <td>26872494</td>\n",
              "      <td>2.35117</td>\n",
              "    </tr>\n",
              "    <tr>\n",
              "      <th>10585</th>\n",
              "      <td>20753811</td>\n",
              "      <td>1.79155</td>\n",
              "    </tr>\n",
              "    <tr>\n",
              "      <th>10586</th>\n",
              "      <td>33520323</td>\n",
              "      <td>2.90918</td>\n",
              "    </tr>\n",
              "    <tr>\n",
              "      <th>10587</th>\n",
              "      <td>21243264</td>\n",
              "      <td>1.80292</td>\n",
              "    </tr>\n",
              "    <tr>\n",
              "      <th>10588</th>\n",
              "      <td>21380484</td>\n",
              "      <td>1.82795</td>\n",
              "    </tr>\n",
              "  </tbody>\n",
              "</table>\n",
              "<p>10589 rows × 2 columns</p>\n",
              "</div>"
            ],
            "text/plain": [
              "          Input  Runtime\n",
              "0      37395246  3.92089\n",
              "1      36610827  3.21540\n",
              "2      29555651  2.54506\n",
              "3      25928216  2.21831\n",
              "4      30423112  2.61376\n",
              "...         ...      ...\n",
              "10584  26872494  2.35117\n",
              "10585  20753811  1.79155\n",
              "10586  33520323  2.90918\n",
              "10587  21243264  1.80292\n",
              "10588  21380484  1.82795\n",
              "\n",
              "[10589 rows x 2 columns]"
            ]
          },
          "metadata": {
            "tags": []
          },
          "execution_count": 24
        }
      ]
    },
    {
      "cell_type": "code",
      "metadata": {
        "id": "1VQJwRD6c4aY",
        "colab_type": "code",
        "colab": {
          "base_uri": "https://localhost:8080/",
          "height": 295
        },
        "outputId": "1b626ce9-fdf3-40dd-a9e9-7f9d30dcac0f"
      },
      "source": [
        "dataset.plot(x='Input', y='Runtime', style='o')  \n",
        "plt.title('Input vs Runtime')  \n",
        "plt.xlabel('Input')  \n",
        "plt.ylabel('Runtime')  \n",
        "plt.show()"
      ],
      "execution_count": 25,
      "outputs": [
        {
          "output_type": "display_data",
          "data": {
            "image/png": "[encoded data removed]",
            "text/plain": [
              "<Figure size 432x288 with 1 Axes>"
            ]
          },
          "metadata": {
            "tags": [],
            "needs_background": "light"
          }
        }
      ]
    },
    {
      "cell_type": "code",
      "metadata": {
        "colab_type": "code",
        "id": "k3uZMpXMKks_",
        "colab": {}
      },
      "source": [
        "X = dataset['Input'].values.reshape(-1,1)\n",
        "Y = dataset['Runtime'].values.reshape(-1,1)"
      ],
      "execution_count": 7,
      "outputs": []
    },
    {
      "cell_type": "markdown",
      "metadata": {
        "colab_type": "text",
        "id": "8SXxf5adKktC"
      },
      "source": [
        "Tách dự liệu thành 2 phần train và test, phần train chiếm **70%**, test chiếm **30%**"
      ]
    },
    {
      "cell_type": "code",
      "metadata": {
        "colab_type": "code",
        "id": "uLDv0lhoKktC",
        "colab": {}
      },
      "source": [
        "X_train, X_test, Y_train, Y_test = train_test_split(X, Y, test_size=0.3, random_state=0)"
      ],
      "execution_count": 8,
      "outputs": []
    },
    {
      "cell_type": "markdown",
      "metadata": {
        "colab_type": "text",
        "id": "y4dthUrbKktG"
      },
      "source": [
        "Sử dụng model LinearRegresstion để train dữ liệu bằng hàm .fit"
      ]
    },
    {
      "cell_type": "code",
      "metadata": {
        "colab_type": "code",
        "id": "py6OPEK9KktG",
        "colab": {
          "base_uri": "https://localhost:8080/",
          "height": 34
        },
        "outputId": "f1d67757-e351-480e-e985-1862ae8b0b1f"
      },
      "source": [
        "LR = LinearRegression()\n",
        "LR.fit(X_train, Y_train)"
      ],
      "execution_count": 9,
      "outputs": [
        {
          "output_type": "execute_result",
          "data": {
            "text/plain": [
              "LinearRegression(copy_X=True, fit_intercept=True, n_jobs=None, normalize=False)"
            ]
          },
          "metadata": {
            "tags": []
          },
          "execution_count": 9
        }
      ]
    },
    {
      "cell_type": "code",
      "metadata": {
        "colab_type": "code",
        "id": "1vMD3GxTKktJ",
        "colab": {}
      },
      "source": [
        "Y_pred = LR.predict(X_test)"
      ],
      "execution_count": 10,
      "outputs": []
    },
    {
      "cell_type": "markdown",
      "metadata": {
        "colab_type": "text",
        "id": "g-14mOxHKktL"
      },
      "source": [
        "Xuất ra thời gian thức tế so với thời gian được tiên đoán thành 2 cột tương ứng Actual và Predicted"
      ]
    },
    {
      "cell_type": "code",
      "metadata": {
        "colab_type": "code",
        "id": "c7kiOPtLKktL",
        "colab": {
          "base_uri": "https://localhost:8080/",
          "height": 402
        },
        "outputId": "7ad898d4-c946-48f3-b537-ede942c0df08"
      },
      "source": [
        "df = pd.DataFrame({'Actual': Y_test.flatten(), 'Predicted': Y_pred.flatten()})\n",
        "df"
      ],
      "execution_count": 11,
      "outputs": [
        {
          "output_type": "execute_result",
          "data": {
            "text/html": [
              "<div>\n",
              "<style scoped>\n",
              "    .dataframe tbody tr th:only-of-type {\n",
              "        vertical-align: middle;\n",
              "    }\n",
              "\n",
              "    .dataframe tbody tr th {\n",
              "        vertical-align: top;\n",
              "    }\n",
              "\n",
              "    .dataframe thead th {\n",
              "        text-align: right;\n",
              "    }\n",
              "</style>\n",
              "<table border=\"1\" class=\"dataframe\">\n",
              "  <thead>\n",
              "    <tr style=\"text-align: right;\">\n",
              "      <th></th>\n",
              "      <th>Actual</th>\n",
              "      <th>Predicted</th>\n",
              "    </tr>\n",
              "  </thead>\n",
              "  <tbody>\n",
              "    <tr>\n",
              "      <th>0</th>\n",
              "      <td>2.39698</td>\n",
              "      <td>2.475486</td>\n",
              "    </tr>\n",
              "    <tr>\n",
              "      <th>1</th>\n",
              "      <td>2.66026</td>\n",
              "      <td>2.706649</td>\n",
              "    </tr>\n",
              "    <tr>\n",
              "      <th>2</th>\n",
              "      <td>2.75597</td>\n",
              "      <td>2.752064</td>\n",
              "    </tr>\n",
              "    <tr>\n",
              "      <th>3</th>\n",
              "      <td>2.90832</td>\n",
              "      <td>2.859824</td>\n",
              "    </tr>\n",
              "    <tr>\n",
              "      <th>4</th>\n",
              "      <td>1.94031</td>\n",
              "      <td>1.990167</td>\n",
              "    </tr>\n",
              "    <tr>\n",
              "      <th>...</th>\n",
              "      <td>...</td>\n",
              "      <td>...</td>\n",
              "    </tr>\n",
              "    <tr>\n",
              "      <th>3172</th>\n",
              "      <td>2.81642</td>\n",
              "      <td>2.756039</td>\n",
              "    </tr>\n",
              "    <tr>\n",
              "      <th>3173</th>\n",
              "      <td>3.23221</td>\n",
              "      <td>3.241337</td>\n",
              "    </tr>\n",
              "    <tr>\n",
              "      <th>3174</th>\n",
              "      <td>1.93803</td>\n",
              "      <td>1.978150</td>\n",
              "    </tr>\n",
              "    <tr>\n",
              "      <th>3175</th>\n",
              "      <td>2.37918</td>\n",
              "      <td>2.377785</td>\n",
              "    </tr>\n",
              "    <tr>\n",
              "      <th>3176</th>\n",
              "      <td>2.12308</td>\n",
              "      <td>2.141390</td>\n",
              "    </tr>\n",
              "  </tbody>\n",
              "</table>\n",
              "<p>3177 rows × 2 columns</p>\n",
              "</div>"
            ],
            "text/plain": [
              "       Actual  Predicted\n",
              "0     2.39698   2.475486\n",
              "1     2.66026   2.706649\n",
              "2     2.75597   2.752064\n",
              "3     2.90832   2.859824\n",
              "4     1.94031   1.990167\n",
              "...       ...        ...\n",
              "3172  2.81642   2.756039\n",
              "3173  3.23221   3.241337\n",
              "3174  1.93803   1.978150\n",
              "3175  2.37918   2.377785\n",
              "3176  2.12308   2.141390\n",
              "\n",
              "[3177 rows x 2 columns]"
            ]
          },
          "metadata": {
            "tags": []
          },
          "execution_count": 11
        }
      ]
    },
    {
      "cell_type": "code",
      "metadata": {
        "colab_type": "code",
        "id": "sJ29OC1tKktO",
        "colab": {
          "base_uri": "https://localhost:8080/",
          "height": 278
        },
        "outputId": "6903c714-4ce0-4e9d-c031-c8c160be8a50"
      },
      "source": [
        "plt.scatter(X_test, Y_test,  color='blue')\n",
        "plt.plot(X_test, Y_pred, color='red', linewidth=2)\n",
        "plt.show()"
      ],
      "execution_count": 12,
      "outputs": [
        {
          "output_type": "display_data",
          "data": {
            "image/png": "[encoded data removed]",
            "text/plain": [
              "<Figure size 432x288 with 1 Axes>"
            ]
          },
          "metadata": {
            "tags": [],
            "needs_background": "light"
          }
        }
      ]
    },
    {
      "cell_type": "markdown",
      "metadata": {
        "colab_type": "text",
        "id": "qE23FUvvKktQ"
      },
      "source": [
        "Mean Squared Error trong round 3 tăng lên so với round 2 cho thấy kết quả thấp hơn so với model ở round 2 vì dữ liệu ở round 3 ít hơn so với dự liệu ở round 2 nên độ chính xác thấp hơn"
      ]
    },
    {
      "cell_type": "code",
      "metadata": {
        "colab_type": "code",
        "id": "t09jEjJbKktQ",
        "colab": {
          "base_uri": "https://localhost:8080/",
          "height": 67
        },
        "outputId": "f6b20502-fd6f-4db7-b36e-a02f26eca1da"
      },
      "source": [
        "print('Mean Squared Error:', metrics.mean_squared_error(Y_test, Y_pred))\n",
        "print(\"Train: \",LR.score(X_train,Y_train))\n",
        "print(\"Test: \",LR.score(X_test,Y_test))"
      ],
      "execution_count": 13,
      "outputs": [
        {
          "output_type": "stream",
          "text": [
            "Mean Squared Error: 0.0033291629131854926\n",
            "Train:  0.9883166757252524\n",
            "Test:  0.9884508838172608\n"
          ],
          "name": "stdout"
        }
      ]
    },
    {
      "cell_type": "markdown",
      "metadata": {
        "id": "c3hOUY26IUR1",
        "colab_type": "text"
      },
      "source": [
        "# Add features"
      ]
    },
    {
      "cell_type": "markdown",
      "metadata": {
        "id": "cK-EQ_tdhJdq",
        "colab_type": "text"
      },
      "source": [
        "Tăng thêm 2 feature vào trong dataset là Input2 ứng với x mũ 2 và log2 của x"
      ]
    },
    {
      "cell_type": "code",
      "metadata": {
        "id": "IDENB5gkKJdm",
        "colab_type": "code",
        "colab": {}
      },
      "source": [
        "import math\n",
        "df=pd.DataFrame(dataset)\n",
        "Input2=df['Input']**2\n",
        "Inputlog=[df['Input'][i]*math.log2(df['Input'][i]) for i in range(len(dataset))]\n",
        "df['Input2']=Input2\n",
        "df['Inputlog']=Inputlog"
      ],
      "execution_count": 26,
      "outputs": []
    },
    {
      "cell_type": "code",
      "metadata": {
        "id": "12GyhsNWtziT",
        "colab_type": "code",
        "colab": {
          "base_uri": "https://localhost:8080/",
          "height": 195
        },
        "outputId": "e913c2fd-4a30-4301-d62e-c7e2b3ce3d8b"
      },
      "source": [
        "dataset.head()"
      ],
      "execution_count": 27,
      "outputs": [
        {
          "output_type": "execute_result",
          "data": {
            "text/html": [
              "<div>\n",
              "<style scoped>\n",
              "    .dataframe tbody tr th:only-of-type {\n",
              "        vertical-align: middle;\n",
              "    }\n",
              "\n",
              "    .dataframe tbody tr th {\n",
              "        vertical-align: top;\n",
              "    }\n",
              "\n",
              "    .dataframe thead th {\n",
              "        text-align: right;\n",
              "    }\n",
              "</style>\n",
              "<table border=\"1\" class=\"dataframe\">\n",
              "  <thead>\n",
              "    <tr style=\"text-align: right;\">\n",
              "      <th></th>\n",
              "      <th>Input</th>\n",
              "      <th>Runtime</th>\n",
              "      <th>Input2</th>\n",
              "      <th>Inputlog</th>\n",
              "    </tr>\n",
              "  </thead>\n",
              "  <tbody>\n",
              "    <tr>\n",
              "      <th>0</th>\n",
              "      <td>37395246</td>\n",
              "      <td>3.92089</td>\n",
              "      <td>1398404423400516</td>\n",
              "      <td>9.407280e+08</td>\n",
              "    </tr>\n",
              "    <tr>\n",
              "      <th>1</th>\n",
              "      <td>36610827</td>\n",
              "      <td>3.21540</td>\n",
              "      <td>1340352653623929</td>\n",
              "      <td>9.198751e+08</td>\n",
              "    </tr>\n",
              "    <tr>\n",
              "      <th>2</th>\n",
              "      <td>29555651</td>\n",
              "      <td>2.54506</td>\n",
              "      <td>873536506033801</td>\n",
              "      <td>7.334805e+08</td>\n",
              "    </tr>\n",
              "    <tr>\n",
              "      <th>3</th>\n",
              "      <td>25928216</td>\n",
              "      <td>2.21831</td>\n",
              "      <td>672272384942656</td>\n",
              "      <td>6.385606e+08</td>\n",
              "    </tr>\n",
              "    <tr>\n",
              "      <th>4</th>\n",
              "      <td>30423112</td>\n",
              "      <td>2.61376</td>\n",
              "      <td>925565743764544</td>\n",
              "      <td>7.562779e+08</td>\n",
              "    </tr>\n",
              "  </tbody>\n",
              "</table>\n",
              "</div>"
            ],
            "text/plain": [
              "      Input  Runtime            Input2      Inputlog\n",
              "0  37395246  3.92089  1398404423400516  9.407280e+08\n",
              "1  36610827  3.21540  1340352653623929  9.198751e+08\n",
              "2  29555651  2.54506   873536506033801  7.334805e+08\n",
              "3  25928216  2.21831   672272384942656  6.385606e+08\n",
              "4  30423112  2.61376   925565743764544  7.562779e+08"
            ]
          },
          "metadata": {
            "tags": []
          },
          "execution_count": 27
        }
      ]
    },
    {
      "cell_type": "code",
      "metadata": {
        "id": "A2TQ2jlSt_dE",
        "colab_type": "code",
        "colab": {}
      },
      "source": [
        "X = dataset[['Input','Input2','Inputlog']]\n",
        "Y = dataset['Runtime'].values.reshape(-1,1)"
      ],
      "execution_count": 16,
      "outputs": []
    },
    {
      "cell_type": "markdown",
      "metadata": {
        "id": "wXBik3FpvoLm",
        "colab_type": "text"
      },
      "source": [
        "Tách dự liệu thành 2 phần train và test, phần train chiếm **70%**, test chiếm **30%**"
      ]
    },
    {
      "cell_type": "code",
      "metadata": {
        "id": "tQcuBhlwuH3R",
        "colab_type": "code",
        "colab": {}
      },
      "source": [
        "X_train, X_test, Y_train, Y_test = train_test_split(X, Y, test_size=0.3, random_state=0)"
      ],
      "execution_count": 17,
      "outputs": []
    },
    {
      "cell_type": "markdown",
      "metadata": {
        "id": "Js4XHDJPv87H",
        "colab_type": "text"
      },
      "source": [
        "Sử dụng model LinearRegresstion để train dữ liệu bằng hàm .fit"
      ]
    },
    {
      "cell_type": "code",
      "metadata": {
        "id": "r58HADNOuK10",
        "colab_type": "code",
        "colab": {
          "base_uri": "https://localhost:8080/",
          "height": 34
        },
        "outputId": "d33860be-7830-4485-c0e7-4706d7128ede"
      },
      "source": [
        "LR = LinearRegression()\n",
        "LR.fit(X_train, Y_train)"
      ],
      "execution_count": 18,
      "outputs": [
        {
          "output_type": "execute_result",
          "data": {
            "text/plain": [
              "LinearRegression(copy_X=True, fit_intercept=True, n_jobs=None, normalize=False)"
            ]
          },
          "metadata": {
            "tags": []
          },
          "execution_count": 18
        }
      ]
    },
    {
      "cell_type": "code",
      "metadata": {
        "id": "4XqJTbinuNgZ",
        "colab_type": "code",
        "colab": {}
      },
      "source": [
        "Y_pred = LR.predict(X_test)"
      ],
      "execution_count": 19,
      "outputs": []
    },
    {
      "cell_type": "markdown",
      "metadata": {
        "id": "t5MrjBsZwNuL",
        "colab_type": "text"
      },
      "source": [
        "Xuất ra thời gian thức tế so với thời gian được tiên đoán thành 2 cột Actual và Predicted"
      ]
    },
    {
      "cell_type": "code",
      "metadata": {
        "id": "2CGR5GeXuSz6",
        "colab_type": "code",
        "colab": {
          "base_uri": "https://localhost:8080/",
          "height": 402
        },
        "outputId": "828ea160-d3d3-40a0-f3f2-e1a5750439a6"
      },
      "source": [
        "df = pd.DataFrame({'Actual': Y_test.flatten(), 'Predicted': Y_pred.flatten()})\n",
        "df"
      ],
      "execution_count": 20,
      "outputs": [
        {
          "output_type": "execute_result",
          "data": {
            "text/html": [
              "<div>\n",
              "<style scoped>\n",
              "    .dataframe tbody tr th:only-of-type {\n",
              "        vertical-align: middle;\n",
              "    }\n",
              "\n",
              "    .dataframe tbody tr th {\n",
              "        vertical-align: top;\n",
              "    }\n",
              "\n",
              "    .dataframe thead th {\n",
              "        text-align: right;\n",
              "    }\n",
              "</style>\n",
              "<table border=\"1\" class=\"dataframe\">\n",
              "  <thead>\n",
              "    <tr style=\"text-align: right;\">\n",
              "      <th></th>\n",
              "      <th>Actual</th>\n",
              "      <th>Predicted</th>\n",
              "    </tr>\n",
              "  </thead>\n",
              "  <tbody>\n",
              "    <tr>\n",
              "      <th>0</th>\n",
              "      <td>2.39698</td>\n",
              "      <td>2.472646</td>\n",
              "    </tr>\n",
              "    <tr>\n",
              "      <th>1</th>\n",
              "      <td>2.66026</td>\n",
              "      <td>2.703255</td>\n",
              "    </tr>\n",
              "    <tr>\n",
              "      <th>2</th>\n",
              "      <td>2.75597</td>\n",
              "      <td>2.748712</td>\n",
              "    </tr>\n",
              "    <tr>\n",
              "      <th>3</th>\n",
              "      <td>2.90832</td>\n",
              "      <td>2.856783</td>\n",
              "    </tr>\n",
              "    <tr>\n",
              "      <th>4</th>\n",
              "      <td>1.94031</td>\n",
              "      <td>1.992021</td>\n",
              "    </tr>\n",
              "    <tr>\n",
              "      <th>...</th>\n",
              "      <td>...</td>\n",
              "      <td>...</td>\n",
              "    </tr>\n",
              "    <tr>\n",
              "      <th>3172</th>\n",
              "      <td>2.81642</td>\n",
              "      <td>2.752693</td>\n",
              "    </tr>\n",
              "    <tr>\n",
              "      <th>3173</th>\n",
              "      <td>3.23221</td>\n",
              "      <td>3.241965</td>\n",
              "    </tr>\n",
              "    <tr>\n",
              "      <th>3174</th>\n",
              "      <td>1.93803</td>\n",
              "      <td>1.980168</td>\n",
              "    </tr>\n",
              "    <tr>\n",
              "      <th>3175</th>\n",
              "      <td>2.37918</td>\n",
              "      <td>2.375538</td>\n",
              "    </tr>\n",
              "    <tr>\n",
              "      <th>3176</th>\n",
              "      <td>2.12308</td>\n",
              "      <td>2.141346</td>\n",
              "    </tr>\n",
              "  </tbody>\n",
              "</table>\n",
              "<p>3177 rows × 2 columns</p>\n",
              "</div>"
            ],
            "text/plain": [
              "       Actual  Predicted\n",
              "0     2.39698   2.472646\n",
              "1     2.66026   2.703255\n",
              "2     2.75597   2.748712\n",
              "3     2.90832   2.856783\n",
              "4     1.94031   1.992021\n",
              "...       ...        ...\n",
              "3172  2.81642   2.752693\n",
              "3173  3.23221   3.241965\n",
              "3174  1.93803   1.980168\n",
              "3175  2.37918   2.375538\n",
              "3176  2.12308   2.141346\n",
              "\n",
              "[3177 rows x 2 columns]"
            ]
          },
          "metadata": {
            "tags": []
          },
          "execution_count": 20
        }
      ]
    },
    {
      "cell_type": "markdown",
      "metadata": {
        "id": "znHB1mD0w9Z7",
        "colab_type": "text"
      },
      "source": [
        "Model mới có performent tốt hơn một ít so với model cũ khi Mean Squared Error giảm từ 0,003329 -> 0,003320\n",
        "\n",
        "Sự khác biệt khi tăng thêm số lượng feature trong data làm tăng thêm khả năng chính xác của model"
      ]
    },
    {
      "cell_type": "code",
      "metadata": {
        "id": "T6b-VLg9uZaH",
        "colab_type": "code",
        "colab": {
          "base_uri": "https://localhost:8080/",
          "height": 67
        },
        "outputId": "a50be043-e89f-48a2-b162-9adad382385e"
      },
      "source": [
        "print('Mean Squared Error:', metrics.mean_squared_error(Y_test, Y_pred))\n",
        "print(\"Train: \",LR.score(X_train,Y_train))\n",
        "print(\"Test: \",LR.score(X_test,Y_test))"
      ],
      "execution_count": 21,
      "outputs": [
        {
          "output_type": "stream",
          "text": [
            "Mean Squared Error: 0.0033205998985766857\n",
            "Train:  0.988347935866094\n",
            "Test:  0.9884805895580643\n"
          ],
          "name": "stdout"
        }
      ]
    }
  ]
}