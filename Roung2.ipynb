{
  "nbformat": 4,
  "nbformat_minor": 0,
  "metadata": {
    "colab": {
      "name": "Roung2.ipynb",
      "provenance": [],
      "collapsed_sections": [],
      "authorship_tag": "ABX9TyNW+/FSYD2VSsY1jh5EAzG6",
      "include_colab_link": true
    },
    "kernelspec": {
      "name": "python3",
      "display_name": "Python 3"
    }
  },
  "cells": [
    {
      "cell_type": "markdown",
      "metadata": {
        "id": "view-in-github",
        "colab_type": "text"
      },
      "source": [
        "<a href=\"https://colab.research.google.com/github/tankien76/CS114.K21/blob/master/Roung2.ipynb\" target=\"_parent\"><img src=\"https://colab.research.google.com/assets/colab-badge.svg\" alt=\"Open In Colab\"/></a>"
      ]
    },
    {
      "cell_type": "code",
      "metadata": {
        "id": "drtrytH8term",
        "colab_type": "code",
        "colab": {}
      },
      "source": [
        "import numpy as np\n",
        "import pandas as pd"
      ],
      "execution_count": 0,
      "outputs": []
    },
    {
      "cell_type": "code",
      "metadata": {
        "id": "_Y6xo33qtfdd",
        "colab_type": "code",
        "colab": {}
      },
      "source": [
        "import matplotlib.pyplot as plt\n",
        "from sklearn.model_selection import train_test_split \n",
        "from sklearn.linear_model import LinearRegression\n",
        "from sklearn import metrics"
      ],
      "execution_count": 0,
      "outputs": []
    },
    {
      "cell_type": "markdown",
      "metadata": {
        "id": "O7L4_rMSuilG",
        "colab_type": "text"
      },
      "source": [
        "Lấy dữ liệu từ link:http://cs.uit.edu.vn/data2.txt chia dữ liệu thành 2 features: \"Input\", \"Runtime\" "
      ]
    },
    {
      "cell_type": "markdown",
      "metadata": {
        "id": "mmuaI0DrxApM",
        "colab_type": "text"
      },
      "source": [
        "Viết ứng dụng thực hiện predict cho mẫu dữ liệu mới bằng cách thay đổi dataset"
      ]
    },
    {
      "cell_type": "code",
      "metadata": {
        "id": "m6bD66QktsBt",
        "colab_type": "code",
        "colab": {}
      },
      "source": [
        "dataset = pd.read_csv(\"http://cs.uit.edu.vn/data2.txt\",sep = \" \",delimiter= \",\")\n",
        "dataset.columns=[\"Input\",\"Runtime\"]"
      ],
      "execution_count": 0,
      "outputs": []
    },
    {
      "cell_type": "code",
      "metadata": {
        "id": "12GyhsNWtziT",
        "colab_type": "code",
        "outputId": "be906716-4632-4389-d972-2a45d7761e3a",
        "colab": {
          "base_uri": "https://localhost:8080/",
          "height": 195
        }
      },
      "source": [
        "dataset.head()"
      ],
      "execution_count": 0,
      "outputs": [
        {
          "output_type": "execute_result",
          "data": {
            "text/html": [
              "<div>\n",
              "<style scoped>\n",
              "    .dataframe tbody tr th:only-of-type {\n",
              "        vertical-align: middle;\n",
              "    }\n",
              "\n",
              "    .dataframe tbody tr th {\n",
              "        vertical-align: top;\n",
              "    }\n",
              "\n",
              "    .dataframe thead th {\n",
              "        text-align: right;\n",
              "    }\n",
              "</style>\n",
              "<table border=\"1\" class=\"dataframe\">\n",
              "  <thead>\n",
              "    <tr style=\"text-align: right;\">\n",
              "      <th></th>\n",
              "      <th>Input</th>\n",
              "      <th>Runtime</th>\n",
              "    </tr>\n",
              "  </thead>\n",
              "  <tbody>\n",
              "    <tr>\n",
              "      <th>0</th>\n",
              "      <td>37395246</td>\n",
              "      <td>3.92089</td>\n",
              "    </tr>\n",
              "    <tr>\n",
              "      <th>1</th>\n",
              "      <td>36610827</td>\n",
              "      <td>3.21540</td>\n",
              "    </tr>\n",
              "    <tr>\n",
              "      <th>2</th>\n",
              "      <td>29555651</td>\n",
              "      <td>2.54506</td>\n",
              "    </tr>\n",
              "    <tr>\n",
              "      <th>3</th>\n",
              "      <td>25928216</td>\n",
              "      <td>2.21831</td>\n",
              "    </tr>\n",
              "    <tr>\n",
              "      <th>4</th>\n",
              "      <td>30423112</td>\n",
              "      <td>2.61376</td>\n",
              "    </tr>\n",
              "  </tbody>\n",
              "</table>\n",
              "</div>"
            ],
            "text/plain": [
              "      Input  Runtime\n",
              "0  37395246  3.92089\n",
              "1  36610827  3.21540\n",
              "2  29555651  2.54506\n",
              "3  25928216  2.21831\n",
              "4  30423112  2.61376"
            ]
          },
          "metadata": {
            "tags": []
          },
          "execution_count": 16
        }
      ]
    },
    {
      "cell_type": "code",
      "metadata": {
        "id": "A2TQ2jlSt_dE",
        "colab_type": "code",
        "colab": {}
      },
      "source": [
        "X = dataset['Input'].values.reshape(-1,1)\n",
        "Y = dataset['Runtime'].values.reshape(-1,1)"
      ],
      "execution_count": 0,
      "outputs": []
    },
    {
      "cell_type": "markdown",
      "metadata": {
        "id": "wXBik3FpvoLm",
        "colab_type": "text"
      },
      "source": [
        "Tách dự liệu thành 2 phần train và test, phần train chiếm **70%**, test chiếm **30%**"
      ]
    },
    {
      "cell_type": "code",
      "metadata": {
        "id": "tQcuBhlwuH3R",
        "colab_type": "code",
        "colab": {}
      },
      "source": [
        "X_train, X_test, Y_train, Y_test = train_test_split(X, Y, test_size=0.3, random_state=0)"
      ],
      "execution_count": 0,
      "outputs": []
    },
    {
      "cell_type": "markdown",
      "metadata": {
        "id": "Js4XHDJPv87H",
        "colab_type": "text"
      },
      "source": [
        "Sử dụng model LinearRegresstion để train dữ liệu bằng hàm .fit"
      ]
    },
    {
      "cell_type": "code",
      "metadata": {
        "id": "r58HADNOuK10",
        "colab_type": "code",
        "outputId": "4b83a16a-3f26-4b29-fecf-cf807f6255df",
        "colab": {
          "base_uri": "https://localhost:8080/",
          "height": 34
        }
      },
      "source": [
        "LR = LinearRegression()\n",
        "LR.fit(X_train, Y_train)"
      ],
      "execution_count": 0,
      "outputs": [
        {
          "output_type": "execute_result",
          "data": {
            "text/plain": [
              "LinearRegression(copy_X=True, fit_intercept=True, n_jobs=None, normalize=False)"
            ]
          },
          "metadata": {
            "tags": []
          },
          "execution_count": 28
        }
      ]
    },
    {
      "cell_type": "code",
      "metadata": {
        "id": "4XqJTbinuNgZ",
        "colab_type": "code",
        "colab": {}
      },
      "source": [
        "Y_pred = LR.predict(X_test)"
      ],
      "execution_count": 0,
      "outputs": []
    },
    {
      "cell_type": "markdown",
      "metadata": {
        "id": "t5MrjBsZwNuL",
        "colab_type": "text"
      },
      "source": [
        "Xuất ra thời gian thức tế so với thời gian được tiên đoán thành 2 cột Actual và Predicted"
      ]
    },
    {
      "cell_type": "code",
      "metadata": {
        "id": "2CGR5GeXuSz6",
        "colab_type": "code",
        "outputId": "956c0a6d-e3bc-4927-cff7-94a21e23e2ab",
        "colab": {
          "base_uri": "https://localhost:8080/",
          "height": 402
        }
      },
      "source": [
        "df = pd.DataFrame({'Actual': Y_test.flatten(), 'Predicted': Y_pred.flatten()})\n",
        "df"
      ],
      "execution_count": 0,
      "outputs": [
        {
          "output_type": "execute_result",
          "data": {
            "text/html": [
              "<div>\n",
              "<style scoped>\n",
              "    .dataframe tbody tr th:only-of-type {\n",
              "        vertical-align: middle;\n",
              "    }\n",
              "\n",
              "    .dataframe tbody tr th {\n",
              "        vertical-align: top;\n",
              "    }\n",
              "\n",
              "    .dataframe thead th {\n",
              "        text-align: right;\n",
              "    }\n",
              "</style>\n",
              "<table border=\"1\" class=\"dataframe\">\n",
              "  <thead>\n",
              "    <tr style=\"text-align: right;\">\n",
              "      <th></th>\n",
              "      <th>Actual</th>\n",
              "      <th>Predicted</th>\n",
              "    </tr>\n",
              "  </thead>\n",
              "  <tbody>\n",
              "    <tr>\n",
              "      <th>0</th>\n",
              "      <td>0.259719</td>\n",
              "      <td>0.265699</td>\n",
              "    </tr>\n",
              "    <tr>\n",
              "      <th>1</th>\n",
              "      <td>0.205267</td>\n",
              "      <td>0.207166</td>\n",
              "    </tr>\n",
              "    <tr>\n",
              "      <th>2</th>\n",
              "      <td>0.187116</td>\n",
              "      <td>0.187692</td>\n",
              "    </tr>\n",
              "    <tr>\n",
              "      <th>3</th>\n",
              "      <td>0.121959</td>\n",
              "      <td>0.127362</td>\n",
              "    </tr>\n",
              "    <tr>\n",
              "      <th>4</th>\n",
              "      <td>0.180851</td>\n",
              "      <td>0.189048</td>\n",
              "    </tr>\n",
              "    <tr>\n",
              "      <th>...</th>\n",
              "      <td>...</td>\n",
              "      <td>...</td>\n",
              "    </tr>\n",
              "    <tr>\n",
              "      <th>21330</th>\n",
              "      <td>0.511989</td>\n",
              "      <td>0.516216</td>\n",
              "    </tr>\n",
              "    <tr>\n",
              "      <th>21331</th>\n",
              "      <td>0.268672</td>\n",
              "      <td>0.267416</td>\n",
              "    </tr>\n",
              "    <tr>\n",
              "      <th>21332</th>\n",
              "      <td>0.395644</td>\n",
              "      <td>0.398874</td>\n",
              "    </tr>\n",
              "    <tr>\n",
              "      <th>21333</th>\n",
              "      <td>0.179673</td>\n",
              "      <td>0.186654</td>\n",
              "    </tr>\n",
              "    <tr>\n",
              "      <th>21334</th>\n",
              "      <td>0.803407</td>\n",
              "      <td>0.811095</td>\n",
              "    </tr>\n",
              "  </tbody>\n",
              "</table>\n",
              "<p>21335 rows × 2 columns</p>\n",
              "</div>"
            ],
            "text/plain": [
              "         Actual  Predicted\n",
              "0      0.259719   0.265699\n",
              "1      0.205267   0.207166\n",
              "2      0.187116   0.187692\n",
              "3      0.121959   0.127362\n",
              "4      0.180851   0.189048\n",
              "...         ...        ...\n",
              "21330  0.511989   0.516216\n",
              "21331  0.268672   0.267416\n",
              "21332  0.395644   0.398874\n",
              "21333  0.179673   0.186654\n",
              "21334  0.803407   0.811095\n",
              "\n",
              "[21335 rows x 2 columns]"
            ]
          },
          "metadata": {
            "tags": []
          },
          "execution_count": 30
        }
      ]
    },
    {
      "cell_type": "code",
      "metadata": {
        "id": "mGRL9XHguUce",
        "colab_type": "code",
        "outputId": "ef256285-084a-477e-9698-d2e068ebc843",
        "colab": {
          "base_uri": "https://localhost:8080/",
          "height": 278
        }
      },
      "source": [
        "plt.scatter(X_test, Y_test,  color='blue')\n",
        "plt.plot(X_test, Y_pred, color='red', linewidth=2)\n",
        "plt.show()"
      ],
      "execution_count": 0,
      "outputs": [
        {
          "output_type": "display_data",
          "data": {
            "image/png": "[encoded data removed]",
            "text/plain": [
              "<Figure size 432x288 with 1 Axes>"
            ]
          },
          "metadata": {
            "tags": [],
            "needs_background": "light"
          }
        }
      ]
    },
    {
      "cell_type": "markdown",
      "metadata": {
        "id": "znHB1mD0w9Z7",
        "colab_type": "text"
      },
      "source": [
        "Khả năng dự đoán của ứng dụng tốt vì Mean Squared Error = 0,00014..."
      ]
    },
    {
      "cell_type": "code",
      "metadata": {
        "id": "T6b-VLg9uZaH",
        "colab_type": "code",
        "outputId": "e4eae157-bce0-4c3c-f240-e44481b1f3ef",
        "colab": {
          "base_uri": "https://localhost:8080/",
          "height": 67
        }
      },
      "source": [
        "print('Mean Squared Error:', metrics.mean_squared_error(Y_test, Y_pred))\n",
        "print(\"Train: \",LR.score(X_train,Y_train))\n",
        "print(\"Test: \",LR.score(X_test,Y_test))"
      ],
      "execution_count": 0,
      "outputs": [
        {
          "output_type": "stream",
          "text": [
            "Mean Squared Error: 0.0001461472878642396\n",
            "Train:  0.9976116999287784\n",
            "Test:  0.9975476011594935\n"
          ],
          "name": "stdout"
        }
      ]
    }
  ]
}